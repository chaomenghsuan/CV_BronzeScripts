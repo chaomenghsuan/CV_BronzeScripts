{
 "cells": [
  {
   "cell_type": "code",
   "execution_count": 1,
   "metadata": {
    "collapsed": true
   },
   "outputs": [],
   "source": [
    "import os\n",
    "import re\n",
    "import cv2\n",
    "import itertools\n",
    "import numpy as np\n",
    "import pandas as pd\n",
    "from math import log\n",
    "from random import random\n",
    "import matplotlib.pyplot as plt\n",
    "from scipy.ndimage import convolve\n",
    "from sklearn.svm import LinearSVC, SVC\n",
    "from nltk import FreqDist\n",
    "from skimage.transform import AffineTransform, warp\n",
    "from scipy.ndimage.interpolation import map_coordinates\n",
    "from scipy.ndimage.filters import gaussian_filter\n",
    "from sklearn.dummy import DummyClassifier\n",
    "from skimage.transform import pyramid_gaussian\n",
    "from sklearn.model_selection import train_test_split\n",
    "from sklearn.feature_selection import SelectKBest, chi2\n",
    "from sklearn.decomposition import PCA\n",
    "from sklearn.model_selection import LeaveOneOut\n",
    "from sklearn.metrics import confusion_matrix, precision_score, recall_score, f1_score\n",
    "from skimage import color, io, img_as_ubyte, img_as_float, exposure, filters\n",
    "from skimage.feature import greycomatrix, greycoprops, local_binary_pattern, corner_harris"
   ]
  },
  {
   "cell_type": "markdown",
   "metadata": {},
   "source": [
    "# importing data"
   ]
  },
  {
   "cell_type": "code",
   "execution_count": 2,
   "metadata": {
    "collapsed": true
   },
   "outputs": [],
   "source": [
    "files1 = sorted([f for f in os.listdir('/Users/zhaomengxuan/CV/bronze/禾') if re.match(r'(?i).+\\.jpg$', f)])\n",
    "files2 = sorted([f for f in os.listdir('/Users/zhaomengxuan/CV/bronze/未') if re.match(r'(?i).+\\.jpg$', f)])\n",
    "files3 = sorted([f for f in os.listdir('/Users/zhaomengxuan/CV/bronze/木') if re.match(r'(?i).+\\.jpg$', f)])\n",
    "fullpath1 = [os.path.join('bronze/禾', f) for f in files1]\n",
    "fullpath2 = [os.path.join('bronze/未', f) for f in files2]\n",
    "fullpath3 = [os.path.join('bronze/木', f) for f in files3]\n",
    "data = [color.rgb2gray(io.imread(fp1)) for fp1 in fullpath1]+\\\n",
    "[color.rgb2gray(io.imread(fp2)) for fp2 in fullpath2]+\\\n",
    "[color.rgb2gray(io.imread(fp3)) for fp3 in fullpath3]\n",
    "#no_ext = [f[:-4] for f in files]\n",
    "#no_ext[:5]\n",
    "data = [img_as_float(1-image) for image in data]"
   ]
  },
  {
   "cell_type": "code",
   "execution_count": 3,
   "metadata": {},
   "outputs": [
    {
     "data": {
      "text/plain": [
       "[78, 102]"
      ]
     },
     "execution_count": 3,
     "metadata": {},
     "output_type": "execute_result"
    }
   ],
   "source": [
    "# 78, 24, 114\n",
    "# 78, 102\n",
    "[len(fullpath1), len(fullpath2)+len(fullpath1)]"
   ]
  },
  {
   "cell_type": "code",
   "execution_count": 4,
   "metadata": {},
   "outputs": [
    {
     "name": "stderr",
     "output_type": "stream",
     "text": [
      "/anaconda/lib/python3.6/site-packages/skimage/io/_plugins/matplotlib_plugin.py:51: FutureWarning: Conversion of the second argument of issubdtype from `float` to `np.floating` is deprecated. In future, it will be treated as `np.float64 == np.dtype(float).type`.\n",
      "  out_of_range_float = (np.issubdtype(image.dtype, np.float) and\n"
     ]
    },
    {
     "data": {
      "image/png": "[encoded data removed]",
      "text/plain": [
       "<matplotlib.figure.Figure at 0x1c22a7b6a0>"
      ]
     },
     "metadata": {},
     "output_type": "display_data"
    }
   ],
   "source": [
    "# 3, 5, 6, 12, 20, 28, 29\n",
    "# 19, 24, 33\n",
    "io.imshow(data[200])\n",
    "plt.show()"
   ]
  },
  {
   "cell_type": "markdown",
   "metadata": {},
   "source": [
    "# gamma correction"
   ]
  },
  {
   "cell_type": "code",
   "execution_count": 5,
   "metadata": {
    "collapsed": true
   },
   "outputs": [],
   "source": [
    "def gamma_correction(dataset, gamma):\n",
    "    for image in dataset:\n",
    "        yield image ** gamma"
   ]
  },
  {
   "cell_type": "code",
   "execution_count": 6,
   "metadata": {
    "collapsed": true
   },
   "outputs": [],
   "source": [
    "data_gamma = tuple(gamma_correction(data, 0.3))"
   ]
  },
  {
   "cell_type": "code",
   "execution_count": 7,
   "metadata": {},
   "outputs": [],
   "source": [
    "#io.imshow(img_as_ubyte(data_gamma[200]))\n",
    "#plt.show()"
   ]
  },
  {
   "cell_type": "markdown",
   "metadata": {},
   "source": [
    "# Otsu thresholding"
   ]
  },
  {
   "cell_type": "code",
   "execution_count": 8,
   "metadata": {
    "collapsed": true
   },
   "outputs": [],
   "source": [
    "def otsu_threshold(dataset):\n",
    "    for i in range(len(dataset)):\n",
    "        image = img_as_ubyte(dataset[i])\n",
    "        otsu = filters.threshold_otsu(image)\n",
    "        image[image>otsu] = 255\n",
    "        yield img_as_float(image)"
   ]
  },
  {
   "cell_type": "code",
   "execution_count": 9,
   "metadata": {},
   "outputs": [
    {
     "name": "stderr",
     "output_type": "stream",
     "text": [
      "/anaconda/lib/python3.6/site-packages/skimage/util/dtype.py:122: UserWarning: Possible precision loss when converting from float64 to uint8\n",
      "  .format(dtypeobj_in, dtypeobj_out))\n"
     ]
    }
   ],
   "source": [
    "data_otsu = tuple(otsu_threshold(data_gamma))"
   ]
  },
  {
   "cell_type": "code",
   "execution_count": 10,
   "metadata": {},
   "outputs": [
    {
     "name": "stderr",
     "output_type": "stream",
     "text": [
      "/anaconda/lib/python3.6/site-packages/skimage/util/dtype.py:122: UserWarning: Possible precision loss when converting from float64 to uint8\n",
      "  .format(dtypeobj_in, dtypeobj_out))\n",
      "/anaconda/lib/python3.6/site-packages/skimage/io/_plugins/matplotlib_plugin.py:51: FutureWarning: Conversion of the second argument of issubdtype from `float` to `np.floating` is deprecated. In future, it will be treated as `np.float64 == np.dtype(float).type`.\n",
      "  out_of_range_float = (np.issubdtype(image.dtype, np.float) and\n"
     ]
    },
    {
     "data": {
      "image/png": "[encoded data removed]",
      "text/plain": [
       "<matplotlib.figure.Figure at 0x1c22d62c50>"
      ]
     },
     "metadata": {},
     "output_type": "display_data"
    }
   ],
   "source": [
    "io.imshow(img_as_ubyte(data_otsu[50]))\n",
    "plt.show()"
   ]
  },
  {
   "cell_type": "markdown",
   "metadata": {},
   "source": [
    "# Histogram equalization"
   ]
  },
  {
   "cell_type": "code",
   "execution_count": 11,
   "metadata": {
    "collapsed": true
   },
   "outputs": [],
   "source": [
    "data_hist_eq = [exposure.equalize_hist(data_otsu[i]) for i in range(len(data_otsu))]"
   ]
  },
  {
   "cell_type": "code",
   "execution_count": 12,
   "metadata": {},
   "outputs": [
    {
     "name": "stderr",
     "output_type": "stream",
     "text": [
      "/anaconda/lib/python3.6/site-packages/skimage/util/dtype.py:122: UserWarning: Possible precision loss when converting from float64 to uint8\n",
      "  .format(dtypeobj_in, dtypeobj_out))\n",
      "/anaconda/lib/python3.6/site-packages/skimage/io/_plugins/matplotlib_plugin.py:51: FutureWarning: Conversion of the second argument of issubdtype from `float` to `np.floating` is deprecated. In future, it will be treated as `np.float64 == np.dtype(float).type`.\n",
      "  out_of_range_float = (np.issubdtype(image.dtype, np.float) and\n"
     ]
    },
    {
     "data": {
      "image/png": "[encoded data removed]",
      "text/plain": [
       "<matplotlib.figure.Figure at 0x1c22d8bc18>"
      ]
     },
     "metadata": {},
     "output_type": "display_data"
    }
   ],
   "source": [
    "io.imshow(img_as_ubyte(data_hist_eq[50]))\n",
    "plt.show()"
   ]
  },
  {
   "cell_type": "markdown",
   "metadata": {},
   "source": [
    "# Padding"
   ]
  },
  {
   "cell_type": "code",
   "execution_count": 13,
   "metadata": {
    "collapsed": true
   },
   "outputs": [],
   "source": [
    "def split(n):\n",
    "    if n%2 == 0:\n",
    "        return int(n/2), int(n/2)\n",
    "    return n//2, n//2+1"
   ]
  },
  {
   "cell_type": "code",
   "execution_count": 14,
   "metadata": {
    "collapsed": true
   },
   "outputs": [],
   "source": [
    "def padding(dataset):\n",
    "    for image in dataset:\n",
    "        if image.shape == (75,75):\n",
    "            yield image\n",
    "        else:\n",
    "            v = 75 - image.shape[0]\n",
    "            h = 75 - image.shape[1]\n",
    "            top, bottom = split(v)\n",
    "            left, right = split(h)\n",
    "            yield cv2.copyMakeBorder(image, top, bottom, left, right, cv2.BORDER_CONSTANT, value=1)"
   ]
  },
  {
   "cell_type": "code",
   "execution_count": 15,
   "metadata": {
    "collapsed": true
   },
   "outputs": [],
   "source": [
    "data_fullsize = tuple(padding(data_hist_eq))"
   ]
  },
  {
   "cell_type": "code",
   "execution_count": 16,
   "metadata": {},
   "outputs": [
    {
     "name": "stderr",
     "output_type": "stream",
     "text": [
      "/anaconda/lib/python3.6/site-packages/skimage/util/dtype.py:122: UserWarning: Possible precision loss when converting from float64 to uint8\n",
      "  .format(dtypeobj_in, dtypeobj_out))\n",
      "/anaconda/lib/python3.6/site-packages/skimage/io/_plugins/matplotlib_plugin.py:51: FutureWarning: Conversion of the second argument of issubdtype from `float` to `np.floating` is deprecated. In future, it will be treated as `np.float64 == np.dtype(float).type`.\n",
      "  out_of_range_float = (np.issubdtype(image.dtype, np.float) and\n"
     ]
    },
    {
     "data": {
      "image/png": "[encoded data removed]",
      "text/plain": [
       "<matplotlib.figure.Figure at 0x1c22f0f710>"
      ]
     },
     "metadata": {},
     "output_type": "display_data"
    }
   ],
   "source": [
    "io.imshow(img_as_ubyte(data_fullsize[200]))\n",
    "plt.show()"
   ]
  },
  {
   "cell_type": "markdown",
   "metadata": {},
   "source": []
  },
  {
   "cell_type": "code",
   "execution_count": null,
   "metadata": {
    "collapsed": true
   },
   "outputs": [],
   "source": []
  },
  {
   "cell_type": "code",
   "execution_count": null,
   "metadata": {
    "collapsed": true
   },
   "outputs": [],
   "source": []
  },
  {
   "cell_type": "code",
   "execution_count": null,
   "metadata": {
    "collapsed": true
   },
   "outputs": [],
   "source": []
  },
  {
   "cell_type": "markdown",
   "metadata": {},
   "source": [
    "# denoise filter"
   ]
  },
  {
   "cell_type": "code",
   "execution_count": 17,
   "metadata": {
    "collapsed": true
   },
   "outputs": [],
   "source": [
    "def median_filter(dataset, kernal_size):\n",
    "    for image in dataset:\n",
    "        padded_image = np.pad(image, kernal_size//2, 'reflect')\n",
    "        new_image = np.zeros((image.shape[0], image.shape[1]))\n",
    "        for i in range(image.shape[0]):\n",
    "            for j in range(image.shape[1]):\n",
    "                new_image[i,j] = np.median(padded_image[i:i+kernal_size, j:j+kernal_size])\n",
    "        yield new_image"
   ]
  },
  {
   "cell_type": "code",
   "execution_count": 18,
   "metadata": {
    "collapsed": true
   },
   "outputs": [],
   "source": [
    "data_denoised1 = tuple(median_filter(data_fullsize, 3))"
   ]
  },
  {
   "cell_type": "code",
   "execution_count": 19,
   "metadata": {},
   "outputs": [
    {
     "name": "stderr",
     "output_type": "stream",
     "text": [
      "/anaconda/lib/python3.6/site-packages/skimage/util/dtype.py:122: UserWarning: Possible precision loss when converting from float64 to uint8\n",
      "  .format(dtypeobj_in, dtypeobj_out))\n",
      "/anaconda/lib/python3.6/site-packages/skimage/io/_plugins/matplotlib_plugin.py:51: FutureWarning: Conversion of the second argument of issubdtype from `float` to `np.floating` is deprecated. In future, it will be treated as `np.float64 == np.dtype(float).type`.\n",
      "  out_of_range_float = (np.issubdtype(image.dtype, np.float) and\n"
     ]
    },
    {
     "data": {
      "image/png": "[encoded data removed]",
      "text/plain": [
       "<matplotlib.figure.Figure at 0x1c238eca20>"
      ]
     },
     "metadata": {},
     "output_type": "display_data"
    }
   ],
   "source": [
    "io.imshow(img_as_ubyte(data_denoised1[50]))\n",
    "plt.show()"
   ]
  },
  {
   "cell_type": "code",
   "execution_count": null,
   "metadata": {
    "collapsed": true
   },
   "outputs": [],
   "source": []
  },
  {
   "cell_type": "code",
   "execution_count": null,
   "metadata": {
    "collapsed": true
   },
   "outputs": [],
   "source": []
  },
  {
   "cell_type": "code",
   "execution_count": 20,
   "metadata": {
    "collapsed": true
   },
   "outputs": [],
   "source": [
    "def alpha_trimmed_filter(dataset, size, d):\n",
    "    for image in dataset:\n",
    "        padded_image = np.pad(image, size//2, 'reflect')\n",
    "        new_image = np.zeros((image.shape[0], image.shape[1]))\n",
    "        for i in range(image.shape[0]):\n",
    "            for j in range(image.shape[1]):\n",
    "                lst = sorted(padded_image[i:i+size, j:j+size].reshape(size**2))\n",
    "                lst = lst[d:][:-d]\n",
    "                new_image[i,j] = sum(lst)/(size**2-d*2)\n",
    "        yield new_image "
   ]
  },
  {
   "cell_type": "code",
   "execution_count": 21,
   "metadata": {
    "collapsed": true
   },
   "outputs": [],
   "source": [
    "data_denoised2 = tuple(alpha_trimmed_filter(data_fullsize, 5,5))"
   ]
  },
  {
   "cell_type": "code",
   "execution_count": 22,
   "metadata": {},
   "outputs": [
    {
     "name": "stderr",
     "output_type": "stream",
     "text": [
      "/anaconda/lib/python3.6/site-packages/skimage/io/_plugins/matplotlib_plugin.py:51: FutureWarning: Conversion of the second argument of issubdtype from `float` to `np.floating` is deprecated. In future, it will be treated as `np.float64 == np.dtype(float).type`.\n",
      "  out_of_range_float = (np.issubdtype(image.dtype, np.float) and\n"
     ]
    },
    {
     "data": {
      "image/png": "[encoded data removed]",
      "text/plain": [
       "<matplotlib.figure.Figure at 0x1c2370a6d8>"
      ]
     },
     "metadata": {},
     "output_type": "display_data"
    }
   ],
   "source": [
    "io.imshow(data_denoised2[50])\n",
    "plt.show()"
   ]
  },
  {
   "cell_type": "markdown",
   "metadata": {},
   "source": [
    "# Conbine denoised images"
   ]
  },
  {
   "cell_type": "code",
   "execution_count": 23,
   "metadata": {
    "collapsed": true
   },
   "outputs": [],
   "source": [
    "def combine(layer1, layer2, alpha):\n",
    "    return layer1*alpha + layer2*(1-alpha)"
   ]
  },
  {
   "cell_type": "code",
   "execution_count": 24,
   "metadata": {
    "collapsed": true
   },
   "outputs": [],
   "source": [
    "def combine_main(dataset1, dataset2, alpha):\n",
    "    assert len(dataset1) == len(dataset2)\n",
    "    for i in range(len(dataset1)):\n",
    "        yield combine(dataset1[i], dataset2[i], alpha)"
   ]
  },
  {
   "cell_type": "code",
   "execution_count": 25,
   "metadata": {
    "collapsed": true
   },
   "outputs": [],
   "source": [
    "data_combine = tuple(combine_main(data_denoised1, data_denoised2, 0.5))"
   ]
  },
  {
   "cell_type": "code",
   "execution_count": 26,
   "metadata": {},
   "outputs": [
    {
     "name": "stderr",
     "output_type": "stream",
     "text": [
      "/anaconda/lib/python3.6/site-packages/skimage/io/_plugins/matplotlib_plugin.py:51: FutureWarning: Conversion of the second argument of issubdtype from `float` to `np.floating` is deprecated. In future, it will be treated as `np.float64 == np.dtype(float).type`.\n",
      "  out_of_range_float = (np.issubdtype(image.dtype, np.float) and\n"
     ]
    },
    {
     "data": {
      "image/png": "[encoded data removed]",
      "text/plain": [
       "<matplotlib.figure.Figure at 0x1c23a272e8>"
      ]
     },
     "metadata": {},
     "output_type": "display_data"
    }
   ],
   "source": [
    "io.imshow(data_combine[50])\n",
    "plt.show()"
   ]
  },
  {
   "cell_type": "markdown",
   "metadata": {},
   "source": [
    "# Sauvola thresholding"
   ]
  },
  {
   "cell_type": "code",
   "execution_count": 27,
   "metadata": {
    "collapsed": true
   },
   "outputs": [],
   "source": [
    "def sauvola_thre(dataset, win_size):\n",
    "    for image in dataset:\n",
    "        thr = filters.threshold_sauvola(image, window_size=win_size)\n",
    "        yield (image > thr).astype(float)"
   ]
  },
  {
   "cell_type": "code",
   "execution_count": 28,
   "metadata": {},
   "outputs": [
    {
     "name": "stderr",
     "output_type": "stream",
     "text": [
      "/anaconda/lib/python3.6/site-packages/skimage/filters/thresholding.py:777: RuntimeWarning: invalid value encountered in sqrt\n",
      "  s = np.sqrt(g2 - m * m)\n",
      "/anaconda/lib/python3.6/site-packages/ipykernel_launcher.py:4: RuntimeWarning: invalid value encountered in greater\n",
      "  after removing the cwd from sys.path.\n"
     ]
    }
   ],
   "source": [
    "data_sauvola = tuple(sauvola_thre(data_combine, 75))"
   ]
  },
  {
   "cell_type": "code",
   "execution_count": 29,
   "metadata": {},
   "outputs": [
    {
     "name": "stderr",
     "output_type": "stream",
     "text": [
      "/anaconda/lib/python3.6/site-packages/skimage/io/_plugins/matplotlib_plugin.py:51: FutureWarning: Conversion of the second argument of issubdtype from `float` to `np.floating` is deprecated. In future, it will be treated as `np.float64 == np.dtype(float).type`.\n",
      "  out_of_range_float = (np.issubdtype(image.dtype, np.float) and\n"
     ]
    },
    {
     "data": {
      "image/png": "[encoded data removed]",
      "text/plain": [
       "<matplotlib.figure.Figure at 0x1c23ed32b0>"
      ]
     },
     "metadata": {},
     "output_type": "display_data"
    }
   ],
   "source": [
    "io.imshow(data_sauvola[50])\n",
    "plt.show()"
   ]
  },
  {
   "cell_type": "code",
   "execution_count": 30,
   "metadata": {
    "collapsed": true
   },
   "outputs": [],
   "source": [
    "data_denoised3 = tuple(median_filter(data_sauvola, 3))"
   ]
  },
  {
   "cell_type": "code",
   "execution_count": 31,
   "metadata": {},
   "outputs": [
    {
     "name": "stderr",
     "output_type": "stream",
     "text": [
      "/anaconda/lib/python3.6/site-packages/skimage/io/_plugins/matplotlib_plugin.py:51: FutureWarning: Conversion of the second argument of issubdtype from `float` to `np.floating` is deprecated. In future, it will be treated as `np.float64 == np.dtype(float).type`.\n",
      "  out_of_range_float = (np.issubdtype(image.dtype, np.float) and\n"
     ]
    },
    {
     "data": {
      "image/png": "[encoded data removed]",
      "text/plain": [
       "<matplotlib.figure.Figure at 0x1c2403dcc0>"
      ]
     },
     "metadata": {},
     "output_type": "display_data"
    }
   ],
   "source": [
    "io.imshow(data_denoised3[0])\n",
    "plt.show()"
   ]
  },
  {
   "cell_type": "code",
   "execution_count": 32,
   "metadata": {
    "collapsed": true
   },
   "outputs": [],
   "source": [
    "data_dn3_1, data_dn3_2, data_dn3_3 = data_denoised3[:78], data_denoised3[78:102], data_denoised3[102:]"
   ]
  },
  {
   "cell_type": "markdown",
   "metadata": {},
   "source": [
    "# generate Artificial data - elastic_transform"
   ]
  },
  {
   "cell_type": "markdown",
   "metadata": {},
   "source": [
    "http://cognitivemedium.com/assets/rmnist/Simard.pdf"
   ]
  },
  {
   "cell_type": "code",
   "execution_count": 33,
   "metadata": {
    "collapsed": true
   },
   "outputs": [],
   "source": [
    "def elastic_transform(image, alpha, sigma, random_state=None):\n",
    "    \"\"\"Elastic deformation of images as described in [Simard2003]_.\n",
    "    .. [Simard2003] Simard, Steinkraus and Platt, \"Best Practices for\n",
    "       Convolutional Neural Networks applied to Visual Document Analysis\", in\n",
    "       Proc. of the International Conference on Document Analysis and\n",
    "       Recognition, 2003.\n",
    "       https://gist.github.com/erniejunior/601cdf56d2b424757de5\n",
    "    \"\"\"\n",
    "    if random_state is None:\n",
    "        random_state = np.random.RandomState(None)\n",
    "\n",
    "    shape = image.shape\n",
    "    #print(shape)\n",
    "    dx = gaussian_filter((random_state.rand(*shape) * 2 - 1), sigma, mode=\"constant\", cval=0) * alpha\n",
    "    dy = gaussian_filter((random_state.rand(*shape) * 2 - 1), sigma, mode=\"constant\", cval=0) * alpha\n",
    "    dz = np.zeros_like(dx)\n",
    "\n",
    "    x, y = np.meshgrid(np.arange(shape[0]), np.arange(shape[1]))\n",
    "    #print(x.shape)\n",
    "    indices = np.reshape(y+dy, (-1, 1)), np.reshape(x+dx, (-1, 1))\n",
    "\n",
    "    distored_image = map_coordinates(image, indices, order=1, mode='reflect')\n",
    "    return distored_image.reshape(image.shape)"
   ]
  },
  {
   "cell_type": "code",
   "execution_count": 34,
   "metadata": {},
   "outputs": [
    {
     "data": {
      "text/plain": [
       "(24, 75, 75)"
      ]
     },
     "execution_count": 34,
     "metadata": {},
     "output_type": "execute_result"
    }
   ],
   "source": [
    "art_2_elastic = np.array([elastic_transform(image, alpha = 34, sigma = 4) for image in data_dn3_2])\n",
    "art_2_elastic.shape"
   ]
  },
  {
   "cell_type": "code",
   "execution_count": 35,
   "metadata": {
    "collapsed": true
   },
   "outputs": [],
   "source": [
    "art_2_elastic[art_2_elastic>1] = 1"
   ]
  },
  {
   "cell_type": "code",
   "execution_count": 36,
   "metadata": {},
   "outputs": [
    {
     "name": "stderr",
     "output_type": "stream",
     "text": [
      "/anaconda/lib/python3.6/site-packages/skimage/io/_plugins/matplotlib_plugin.py:51: FutureWarning: Conversion of the second argument of issubdtype from `float` to `np.floating` is deprecated. In future, it will be treated as `np.float64 == np.dtype(float).type`.\n",
      "  out_of_range_float = (np.issubdtype(image.dtype, np.float) and\n"
     ]
    },
    {
     "data": {
      "image/png": "[encoded data removed]",
      "text/plain": [
       "<matplotlib.figure.Figure at 0x1c240414a8>"
      ]
     },
     "metadata": {},
     "output_type": "display_data"
    }
   ],
   "source": [
    "io.imshow(art_2_elastic[11])\n",
    "plt.show()"
   ]
  },
  {
   "cell_type": "code",
   "execution_count": 37,
   "metadata": {},
   "outputs": [
    {
     "data": {
      "text/plain": [
       "1.0"
      ]
     },
     "execution_count": 37,
     "metadata": {},
     "output_type": "execute_result"
    }
   ],
   "source": [
    "np.amax(art_2_elastic[2])"
   ]
  },
  {
   "cell_type": "markdown",
   "metadata": {
    "collapsed": true
   },
   "source": [
    "# generate Artificial data - affine transformation"
   ]
  },
  {
   "cell_type": "code",
   "execution_count": 38,
   "metadata": {
    "collapsed": true
   },
   "outputs": [],
   "source": [
    "# scale = (1~1.2,1~1.2), rotation: -0.2~0.2, shear: -0.2~0.2, translation\n",
    "scale = np.random.rand(len(data_dn3_2),2)/5+1\n",
    "rotation = (np.random.rand(len(data_dn3_2))*2-1)/5\n",
    "shear = (np.random.rand(len(data_dn3_2))*2-1)/5"
   ]
  },
  {
   "cell_type": "code",
   "execution_count": 39,
   "metadata": {
    "collapsed": true
   },
   "outputs": [],
   "source": [
    "def affine(dataset,scale, rotation, shear):\n",
    "    assert len(dataset)==len(scale)==len(rotation)==len(shear)\n",
    "    for i in range(len(dataset)):\n",
    "        trans = AffineTransform(scale=scale[i], rotation=rotation[i], shear=shear[i])\n",
    "        yield 1-(warp(1-dataset[i], trans))"
   ]
  },
  {
   "cell_type": "code",
   "execution_count": 40,
   "metadata": {
    "collapsed": true
   },
   "outputs": [],
   "source": [
    "art_2_affine = tuple(affine(data_dn3_2, scale, rotation,shear))"
   ]
  },
  {
   "cell_type": "code",
   "execution_count": 41,
   "metadata": {},
   "outputs": [
    {
     "name": "stderr",
     "output_type": "stream",
     "text": [
      "/anaconda/lib/python3.6/site-packages/skimage/io/_plugins/matplotlib_plugin.py:51: FutureWarning: Conversion of the second argument of issubdtype from `float` to `np.floating` is deprecated. In future, it will be treated as `np.float64 == np.dtype(float).type`.\n",
      "  out_of_range_float = (np.issubdtype(image.dtype, np.float) and\n"
     ]
    },
    {
     "data": {
      "image/png": "[encoded data removed]",
      "text/plain": [
       "<matplotlib.figure.Figure at 0x1c242a3d68>"
      ]
     },
     "metadata": {},
     "output_type": "display_data"
    }
   ],
   "source": [
    "io.imshow(art_2_affine[11])\n",
    "plt.show()"
   ]
  },
  {
   "cell_type": "markdown",
   "metadata": {},
   "source": [
    "# data combination"
   ]
  },
  {
   "cell_type": "code",
   "execution_count": 42,
   "metadata": {},
   "outputs": [
    {
     "data": {
      "text/plain": [
       "264"
      ]
     },
     "execution_count": 42,
     "metadata": {},
     "output_type": "execute_result"
    }
   ],
   "source": [
    "all_data = list(data_dn3_1)+list(data_dn3_2)+list(art_2_elastic)+list(art_2_affine)+list(data_dn3_3)\n",
    "len(all_data)"
   ]
  },
  {
   "cell_type": "markdown",
   "metadata": {},
   "source": [
    "# Gray scale co-occurence matrix"
   ]
  },
  {
   "cell_type": "code",
   "execution_count": 43,
   "metadata": {
    "collapsed": true
   },
   "outputs": [],
   "source": [
    "# angle = [0, np.pi/4, np.pi/2, np.pi*3/4]\n",
    "\n",
    "def gscm(dataset, angle, distance=1):\n",
    "    for image in dataset:\n",
    "        image = img_as_ubyte(image)\n",
    "        yield greycomatrix(image, [distance], [angle])/(image.shape[0]*image.shape[1])"
   ]
  },
  {
   "cell_type": "code",
   "execution_count": 44,
   "metadata": {
    "collapsed": true
   },
   "outputs": [],
   "source": [
    "def gscm_main(dataset):\n",
    "    result = []\n",
    "    for gscm_matrix in dataset:\n",
    "        temp = {}\n",
    "        \n",
    "        ent = -np.sum(gscm_matrix*np.log(gscm_matrix+0.01))\n",
    "        temp['entropy'] = ent\n",
    "        \n",
    "        amax = np.amax(gscm_matrix)\n",
    "        temp['max'] = amax\n",
    "        \n",
    "        range_gray = 0\n",
    "        for i in range(gscm_matrix.shape[0]):\n",
    "            for j in range(gscm_matrix.shape[1]):\n",
    "                range_gray += gscm_matrix[i,j]/(1+abs(i-j))\n",
    "        temp['range_of_gray'] = range_gray[0,0]\n",
    "        \n",
    "        corr = greycoprops(gscm_matrix, 'correlation')\n",
    "        temp['correlation'] = corr[0,0]\n",
    "        \n",
    "        contrast = greycoprops(gscm_matrix, 'contrast')\n",
    "        temp['contrast'] = contrast[0,0]\n",
    "        \n",
    "        energy = greycoprops(gscm_matrix, 'energy')\n",
    "        temp['energy'] = energy[0,0]\n",
    "        \n",
    "        asm = greycoprops(gscm_matrix, 'ASM')\n",
    "        temp['ASM'] = asm[0,0]\n",
    "        \n",
    "        result.append(temp)\n",
    "    return result"
   ]
  },
  {
   "cell_type": "code",
   "execution_count": 45,
   "metadata": {},
   "outputs": [
    {
     "name": "stderr",
     "output_type": "stream",
     "text": [
      "/anaconda/lib/python3.6/site-packages/skimage/util/dtype.py:122: UserWarning: Possible precision loss when converting from float64 to uint8\n",
      "  .format(dtypeobj_in, dtypeobj_out))\n",
      "/anaconda/lib/python3.6/site-packages/skimage/feature/texture.py:109: FutureWarning: Conversion of the second argument of issubdtype from `float` to `np.floating` is deprecated. In future, it will be treated as `np.float64 == np.dtype(float).type`.\n",
      "  if np.issubdtype(image.dtype, np.float):\n"
     ]
    }
   ],
   "source": [
    "data_0_1 = tuple(gscm(all_data, 0, distance=1))\n",
    "data_45_1 = tuple(gscm(all_data, np.pi/4, distance=1))\n",
    "data_90_1 = tuple(gscm(all_data, np.pi/2, distance=1))\n",
    "data_135_1 = tuple(gscm(all_data, np.pi*3/4, distance=1))"
   ]
  },
  {
   "cell_type": "code",
   "execution_count": 46,
   "metadata": {
    "collapsed": true
   },
   "outputs": [],
   "source": [
    "data_0_1_result = gscm_main(data_0_1)\n",
    "data_45_1_result = gscm_main(data_45_1)\n",
    "data_90_1_result = gscm_main(data_90_1)\n",
    "data_135_1_result = gscm_main(data_135_1)"
   ]
  },
  {
   "cell_type": "code",
   "execution_count": 47,
   "metadata": {
    "collapsed": true
   },
   "outputs": [],
   "source": [
    "gscm_features = []\n",
    "for i in range(len(all_data)):\n",
    "    result = list(data_0_1_result[i].values()) +\\\n",
    "    list(data_45_1_result[i].values()) +\\\n",
    "    list(data_90_1_result[i].values()) +\\\n",
    "    list(data_135_1_result[i].values())\n",
    "    gscm_features.append(result)"
   ]
  },
  {
   "cell_type": "code",
   "execution_count": 48,
   "metadata": {},
   "outputs": [
    {
     "data": {
      "text/plain": [
       "264"
      ]
     },
     "execution_count": 48,
     "metadata": {},
     "output_type": "execute_result"
    }
   ],
   "source": [
    "len(gscm_features)"
   ]
  },
  {
   "cell_type": "markdown",
   "metadata": {
    "collapsed": true
   },
   "source": [
    "# local binary pattern"
   ]
  },
  {
   "cell_type": "code",
   "execution_count": 49,
   "metadata": {
    "collapsed": true
   },
   "outputs": [],
   "source": [
    "#local_binary_pattern(image, P, R, method='default')\n",
    "def lbp(dataset, n_direction, r):\n",
    "    for image in dataset:\n",
    "        yield local_binary_pattern(image, n_direction, r)"
   ]
  },
  {
   "cell_type": "code",
   "execution_count": 50,
   "metadata": {
    "collapsed": true
   },
   "outputs": [],
   "source": [
    "lbp3 = tuple(lbp(all_data, 8, 1))\n",
    "lbp9 = tuple(lbp(all_data, 8, 4))"
   ]
  },
  {
   "cell_type": "code",
   "execution_count": 51,
   "metadata": {},
   "outputs": [
    {
     "name": "stderr",
     "output_type": "stream",
     "text": [
      "/anaconda/lib/python3.6/site-packages/skimage/io/_plugins/matplotlib_plugin.py:51: FutureWarning: Conversion of the second argument of issubdtype from `float` to `np.floating` is deprecated. In future, it will be treated as `np.float64 == np.dtype(float).type`.\n",
      "  out_of_range_float = (np.issubdtype(image.dtype, np.float) and\n",
      "/anaconda/lib/python3.6/site-packages/skimage/io/_plugins/matplotlib_plugin.py:77: UserWarning: Float image out of standard range; displaying image with stretched contrast.\n",
      "  warn(\"Float image out of standard range; displaying \"\n"
     ]
    },
    {
     "data": {
      "image/png": "[encoded data removed]",
      "text/plain": [
       "<matplotlib.figure.Figure at 0x1c2398bac8>"
      ]
     },
     "metadata": {},
     "output_type": "display_data"
    }
   ],
   "source": [
    "io.imshow(lbp9[0])\n",
    "plt.show()"
   ]
  },
  {
   "cell_type": "code",
   "execution_count": 52,
   "metadata": {
    "collapsed": true
   },
   "outputs": [],
   "source": [
    "lbp3_hist = [np.histogram(lbp3[i], bins=range(256))[0] for i in range(len(lbp3))]\n",
    "lbp9_hist = [np.histogram(lbp3[i], bins=range(256))[0] for i in range(len(lbp9))]"
   ]
  },
  {
   "cell_type": "markdown",
   "metadata": {},
   "source": [
    "# Area"
   ]
  },
  {
   "cell_type": "code",
   "execution_count": 53,
   "metadata": {
    "collapsed": true
   },
   "outputs": [],
   "source": [
    "def area(dataset):\n",
    "    for image in dataset:\n",
    "        unique, counts = np.unique(image, return_counts=True)\n",
    "        yield 75**2 - dict(zip(unique, counts))[1.0]"
   ]
  },
  {
   "cell_type": "code",
   "execution_count": 54,
   "metadata": {
    "collapsed": true
   },
   "outputs": [],
   "source": [
    "feat_area = tuple(area(all_data))"
   ]
  },
  {
   "cell_type": "markdown",
   "metadata": {},
   "source": [
    "# Laplacian pyramid"
   ]
  },
  {
   "cell_type": "code",
   "execution_count": 55,
   "metadata": {
    "collapsed": true
   },
   "outputs": [],
   "source": [
    "def laplacian_prmd(dataset):\n",
    "    for image in dataset:\n",
    "        small1 = cv2.pyrDown(image)\n",
    "        small2 = cv2.pyrDown(small1)\n",
    "        large1 = cv2.pyrUp(small1)[:75,:75]\n",
    "        large2 = cv2.pyrUp(small2)\n",
    "        lap1 = image-large1\n",
    "        lap2 = small1-large2\n",
    "        yield small1, small2, lap1, lap2"
   ]
  },
  {
   "cell_type": "code",
   "execution_count": 56,
   "metadata": {
    "collapsed": true
   },
   "outputs": [],
   "source": [
    "laplacian_pyramid = tuple(laplacian_prmd(all_data))"
   ]
  },
  {
   "cell_type": "code",
   "execution_count": 57,
   "metadata": {
    "collapsed": true
   },
   "outputs": [],
   "source": [
    "lap_small1 = [laplacian_pyramid[i][0] for i in range(len(laplacian_pyramid))]\n",
    "lap_small2 = [laplacian_pyramid[i][1] for i in range(len(laplacian_pyramid))]\n",
    "lap_small3 = [laplacian_pyramid[i][2] for i in range(len(laplacian_pyramid))]\n",
    "lap_small4 = [laplacian_pyramid[i][3] for i in range(len(laplacian_pyramid))]"
   ]
  },
  {
   "cell_type": "code",
   "execution_count": 58,
   "metadata": {},
   "outputs": [
    {
     "name": "stderr",
     "output_type": "stream",
     "text": [
      "/anaconda/lib/python3.6/site-packages/skimage/io/_plugins/matplotlib_plugin.py:51: FutureWarning: Conversion of the second argument of issubdtype from `float` to `np.floating` is deprecated. In future, it will be treated as `np.float64 == np.dtype(float).type`.\n",
      "  out_of_range_float = (np.issubdtype(image.dtype, np.float) and\n"
     ]
    },
    {
     "data": {
      "image/png": "[encoded data removed]",
      "text/plain": [
       "<matplotlib.figure.Figure at 0x1c238e4d68>"
      ]
     },
     "metadata": {},
     "output_type": "display_data"
    }
   ],
   "source": [
    "io.imshow(laplacian_pyramid[0][3])\n",
    "plt.show()"
   ]
  },
  {
   "cell_type": "code",
   "execution_count": 59,
   "metadata": {
    "collapsed": true
   },
   "outputs": [],
   "source": [
    "def posNneg_distribution(dataset):\n",
    "    for image in dataset:\n",
    "        unique, counts = np.unique(image, return_counts=True)\n",
    "        dic = dict(zip(unique, counts))\n",
    "        pos = sum([dic[k] for k in dic.keys() if k > 0])\n",
    "        neg = sum([dic[k] for k in dic.keys() if k < 0])\n",
    "        zero = sum([dic[k] for k in dic.keys() if k == 0])\n",
    "        yield [pos, neg, zero]"
   ]
  },
  {
   "cell_type": "code",
   "execution_count": 60,
   "metadata": {
    "collapsed": true
   },
   "outputs": [],
   "source": [
    "lap_small3_distribution_feat = tuple(posNneg_distribution(lap_small3))\n",
    "lap_small4_distribution_feat = tuple(posNneg_distribution(lap_small4))"
   ]
  },
  {
   "cell_type": "code",
   "execution_count": 61,
   "metadata": {
    "collapsed": true
   },
   "outputs": [],
   "source": [
    "def all_negative(matrix):\n",
    "    return np.sum(matrix < 0)"
   ]
  },
  {
   "cell_type": "code",
   "execution_count": 62,
   "metadata": {
    "collapsed": true
   },
   "outputs": [],
   "source": [
    "def all_positive(matrix):\n",
    "    return np.sum(matrix > 0)"
   ]
  },
  {
   "cell_type": "code",
   "execution_count": 63,
   "metadata": {
    "collapsed": true
   },
   "outputs": [],
   "source": [
    "lap1_feat = [[all_negative(laplacian_pyramid[i][2])]+[all_positive(laplacian_pyramid[i][2])] \n",
    "             for i in range(len(all_data))]\n",
    "lap2_feat = [[all_negative(laplacian_pyramid[i][3])]+[all_positive(laplacian_pyramid[i][3])] \n",
    "             for i in range(len(all_data))]"
   ]
  },
  {
   "cell_type": "code",
   "execution_count": 64,
   "metadata": {
    "collapsed": true
   },
   "outputs": [],
   "source": [
    "def neg_per_line(matrix):\n",
    "    result = []\n",
    "    for i in range(matrix.shape[0]):\n",
    "        ct = all_negative(matrix[i])\n",
    "        result.append(ct)\n",
    "    return result"
   ]
  },
  {
   "cell_type": "code",
   "execution_count": 65,
   "metadata": {
    "collapsed": true
   },
   "outputs": [],
   "source": [
    "def pos_per_line(matrix):\n",
    "    result = []\n",
    "    for i in range(matrix.shape[0]):\n",
    "        ct = all_positive(matrix[i])\n",
    "        result.append(ct)\n",
    "    return result"
   ]
  },
  {
   "cell_type": "code",
   "execution_count": 66,
   "metadata": {
    "collapsed": true
   },
   "outputs": [],
   "source": [
    "def feat_by_line(image):\n",
    "    nh = neg_per_line(image)\n",
    "    ph = pos_per_line(image)\n",
    "    nv = neg_per_line(image.T)\n",
    "    pv = pos_per_line(image.T)\n",
    "    return nh, ph, nv, pv"
   ]
  },
  {
   "cell_type": "code",
   "execution_count": 67,
   "metadata": {
    "collapsed": true
   },
   "outputs": [],
   "source": [
    "def feat_posNneg_main(dataset):\n",
    "    for image in dataset:\n",
    "        result = []\n",
    "        # number of non-zero values in each cols/rows\n",
    "        nh, ph, nv, pv = feat_by_line(image)\n",
    "        # calculate features\n",
    "        # number of cols/rows which contain non-zero values\n",
    "        nhn0, phn0, nvn0, pvn0 = np.count_nonzero(nh),\\\n",
    "        np.count_nonzero(ph), np.count_nonzero(nv), np.count_nonzero(pv)\n",
    "        # mean\n",
    "        result.append(np.sum(nh)/nhn0)\n",
    "        result.append(np.sum(ph)/phn0)\n",
    "        result.append(np.sum(nv)/nvn0)\n",
    "        result.append(np.sum(pv)/pvn0)\n",
    "        # standard deviation\n",
    "        result.append(np.std(nh))\n",
    "        result.append(np.std(ph))\n",
    "        result.append(np.std(nv))\n",
    "        result.append(np.std(pv))\n",
    "        # smoothess: 1 - (1/(1+mean**2))\n",
    "        result.append(1 - (1/(1+(np.sum(nh)/nhn0)**2)))\n",
    "        result.append(1 - (1/(1+(np.sum(ph)/phn0)**2)))\n",
    "        result.append(1 - (1/(1+(np.sum(nv)/nvn0)**2)))\n",
    "        result.append(1 - (1/(1+(np.sum(pv)/pvn0)**2)))\n",
    "        # entropy\n",
    "        Pnh, Pph, Pnv, Ppv = nh/sum(nh), ph/sum(ph), nv/sum(nv), pv/sum(pv)\n",
    "        result.append(np.sum([-(Pnh[i]*log(Pnh[i]+0.01)) for i in range(len(Pnh))]))\n",
    "        result.append(np.sum([-(Pph[i]*log(Pph[i]+0.01)) for i in range(len(Pph))]))\n",
    "        result.append(np.sum([-(Pnv[i]*log(Pnv[i]+0.01)) for i in range(len(Pnv))]))\n",
    "        result.append(np.sum([-(Ppv[i]*log(Ppv[i]+0.01)) for i in range(len(Ppv))]))\n",
    "        yield result"
   ]
  },
  {
   "cell_type": "code",
   "execution_count": 68,
   "metadata": {
    "collapsed": true
   },
   "outputs": [],
   "source": [
    "lap_large = [laplacian_pyramid[i][2] for i in range(len(laplacian_pyramid))]\n",
    "lap_small = [laplacian_pyramid[i][3] for i in range(len(laplacian_pyramid))]"
   ]
  },
  {
   "cell_type": "code",
   "execution_count": 69,
   "metadata": {
    "collapsed": true
   },
   "outputs": [],
   "source": [
    "lap_large_feat = tuple(feat_posNneg_main(lap_large))\n",
    "lap_small_feat = tuple(feat_posNneg_main(lap_small))"
   ]
  },
  {
   "cell_type": "code",
   "execution_count": 70,
   "metadata": {},
   "outputs": [
    {
     "data": {
      "text/plain": [
       "[11.646153846153846,\n",
       " 15.767123287671232,\n",
       " 21.62857142857143,\n",
       " 28.073170731707318,\n",
       " 8.482410558849935,\n",
       " 7.786301361294006,\n",
       " 14.27835035600713,\n",
       " 15.672900887271068,\n",
       " 0.9926811184983214,\n",
       " 0.9959936246833017,\n",
       " 0.9978668719113176,\n",
       " 0.9987327381751128,\n",
       " 3.4896836013996513,\n",
       " 3.656254626568069,\n",
       " 3.092166392978707,\n",
       " 3.3151402906974186]"
      ]
     },
     "execution_count": 70,
     "metadata": {},
     "output_type": "execute_result"
    }
   ],
   "source": [
    "lap_large_feat[200]"
   ]
  },
  {
   "cell_type": "markdown",
   "metadata": {
    "collapsed": true
   },
   "source": [
    "# Sobel filter 3*3"
   ]
  },
  {
   "cell_type": "code",
   "execution_count": 71,
   "metadata": {
    "collapsed": true
   },
   "outputs": [],
   "source": [
    "def sobelH(dataset):\n",
    "    for image in dataset:\n",
    "        yield filters.sobel_h(image)\n",
    "\n",
    "def sobelV(dataset):\n",
    "    for image in dataset:\n",
    "        yield filters.sobel_v(image)\n",
    "\n",
    "def sobelSqrt(dataset):\n",
    "    for image in dataset:\n",
    "        yield filters.sobel(image)"
   ]
  },
  {
   "cell_type": "code",
   "execution_count": 72,
   "metadata": {
    "collapsed": true
   },
   "outputs": [],
   "source": [
    "sb_h, sb_v, sb_sqrt = tuple(sobelH(all_data)), tuple(sobelV(all_data)), tuple(sobelSqrt(all_data))"
   ]
  },
  {
   "cell_type": "code",
   "execution_count": 73,
   "metadata": {},
   "outputs": [
    {
     "name": "stderr",
     "output_type": "stream",
     "text": [
      "/anaconda/lib/python3.6/site-packages/skimage/io/_plugins/matplotlib_plugin.py:51: FutureWarning: Conversion of the second argument of issubdtype from `float` to `np.floating` is deprecated. In future, it will be treated as `np.float64 == np.dtype(float).type`.\n",
      "  out_of_range_float = (np.issubdtype(image.dtype, np.float) and\n"
     ]
    },
    {
     "data": {
      "image/png": "[encoded data removed]",
      "text/plain": [
       "<matplotlib.figure.Figure at 0x1c236da470>"
      ]
     },
     "metadata": {},
     "output_type": "display_data"
    }
   ],
   "source": [
    "io.imshow(sb_sqrt[21])\n",
    "plt.show()"
   ]
  },
  {
   "cell_type": "code",
   "execution_count": 74,
   "metadata": {
    "collapsed": true
   },
   "outputs": [],
   "source": [
    "sobel_sum = [np.count_nonzero(image) for image in sb_sqrt]\n",
    "sobel_h_distribution = tuple(posNneg_distribution(sb_h))\n",
    "sobel_v_distribution = tuple(posNneg_distribution(sb_v))"
   ]
  },
  {
   "cell_type": "markdown",
   "metadata": {},
   "source": [
    "# Roberts filter (diagonal)"
   ]
  },
  {
   "cell_type": "code",
   "execution_count": 75,
   "metadata": {
    "collapsed": true
   },
   "outputs": [],
   "source": [
    "def robertsP(dataset):\n",
    "    for image in dataset:\n",
    "        yield (filters.roberts_pos_diag(image))\n",
    "\n",
    "def robertsN(dataset):\n",
    "    for image in dataset:\n",
    "        yield (filters.roberts_neg_diag(image))\n",
    "\n",
    "def robertsPSqrt(dataset):\n",
    "    for image in dataset:\n",
    "        yield (filters.roberts(image))"
   ]
  },
  {
   "cell_type": "code",
   "execution_count": 76,
   "metadata": {
    "collapsed": true
   },
   "outputs": [],
   "source": [
    "rt_p, rt_n, rt_sqrt = tuple(robertsP(all_data)), tuple(robertsN(all_data)), tuple(robertsPSqrt(all_data))"
   ]
  },
  {
   "cell_type": "code",
   "execution_count": 77,
   "metadata": {},
   "outputs": [
    {
     "name": "stderr",
     "output_type": "stream",
     "text": [
      "/anaconda/lib/python3.6/site-packages/skimage/io/_plugins/matplotlib_plugin.py:51: FutureWarning: Conversion of the second argument of issubdtype from `float` to `np.floating` is deprecated. In future, it will be treated as `np.float64 == np.dtype(float).type`.\n",
      "  out_of_range_float = (np.issubdtype(image.dtype, np.float) and\n"
     ]
    },
    {
     "data": {
      "image/png": "[encoded data removed]",
      "text/plain": [
       "<matplotlib.figure.Figure at 0x1c23d7abe0>"
      ]
     },
     "metadata": {},
     "output_type": "display_data"
    }
   ],
   "source": [
    "io.imshow(rt_sqrt[250])\n",
    "plt.show()"
   ]
  },
  {
   "cell_type": "code",
   "execution_count": 78,
   "metadata": {
    "collapsed": true
   },
   "outputs": [],
   "source": [
    "rt_sum = [np.count_nonzero(image) for image in rt_sqrt]\n",
    "rt_p_distribution = tuple(posNneg_distribution(rt_p))\n",
    "rt_n_distribution = tuple(posNneg_distribution(rt_n))"
   ]
  },
  {
   "cell_type": "markdown",
   "metadata": {},
   "source": [
    "# Laplace filter"
   ]
  },
  {
   "cell_type": "code",
   "execution_count": 79,
   "metadata": {
    "collapsed": true
   },
   "outputs": [],
   "source": [
    "def _mask_filter_result(result):\n",
    "    \"\"\"Return result after masking.\n",
    "    Input masks are eroded so that mask areas in the original image don't\n",
    "    affect values in the result.\n",
    "    \"\"\"\n",
    "    result[0, :] = 0\n",
    "    result[-1, :] = 0\n",
    "    result[:, 0] = 0\n",
    "    result[:, -1] = 0\n",
    "    return result"
   ]
  },
  {
   "cell_type": "code",
   "execution_count": 80,
   "metadata": {
    "collapsed": true
   },
   "outputs": [],
   "source": [
    "def Lap(image, l_matrix):\n",
    "    image = img_as_float(image)\n",
    "    result = convolve(image, l_matrix)\n",
    "    result = _mask_filter_result(result)\n",
    "    b,s = 1/np.amax(result), 1/abs(np.amin(result))\n",
    "    result[result<0] *= s\n",
    "    result[result>0] *= b\n",
    "    return result"
   ]
  },
  {
   "cell_type": "code",
   "execution_count": 81,
   "metadata": {
    "collapsed": true
   },
   "outputs": [],
   "source": [
    "def lap_main(dataset,l_matrix):\n",
    "    for image in dataset:\n",
    "        yield (Lap(image, l_matrix))"
   ]
  },
  {
   "cell_type": "code",
   "execution_count": 82,
   "metadata": {
    "collapsed": true
   },
   "outputs": [],
   "source": [
    "l = np.array([[0,0,-1,0,0], [0,-1,-2,-1,0], [-1,-2,16,-2,-1], [0,-1,-2,-1,0], [0,0,-1,0,0]])"
   ]
  },
  {
   "cell_type": "code",
   "execution_count": 83,
   "metadata": {
    "collapsed": true
   },
   "outputs": [],
   "source": [
    "lap = tuple(lap_main(all_data, l))"
   ]
  },
  {
   "cell_type": "code",
   "execution_count": 84,
   "metadata": {},
   "outputs": [
    {
     "name": "stderr",
     "output_type": "stream",
     "text": [
      "/anaconda/lib/python3.6/site-packages/skimage/util/dtype.py:122: UserWarning: Possible precision loss when converting from float64 to uint8\n",
      "  .format(dtypeobj_in, dtypeobj_out))\n",
      "/anaconda/lib/python3.6/site-packages/skimage/io/_plugins/matplotlib_plugin.py:51: FutureWarning: Conversion of the second argument of issubdtype from `float` to `np.floating` is deprecated. In future, it will be treated as `np.float64 == np.dtype(float).type`.\n",
      "  out_of_range_float = (np.issubdtype(image.dtype, np.float) and\n"
     ]
    },
    {
     "data": {
      "image/png": "[encoded data removed]",
      "text/plain": [
       "<matplotlib.figure.Figure at 0x1c243feef0>"
      ]
     },
     "metadata": {},
     "output_type": "display_data"
    }
   ],
   "source": [
    "io.imshow(img_as_ubyte(lap[202]))\n",
    "plt.show()"
   ]
  },
  {
   "cell_type": "markdown",
   "metadata": {
    "collapsed": true
   },
   "source": [
    "# corner detection"
   ]
  },
  {
   "cell_type": "code",
   "execution_count": 85,
   "metadata": {
    "collapsed": true
   },
   "outputs": [],
   "source": [
    "def harris(dataset):\n",
    "    for image in dataset:\n",
    "        feat = corner_harris(image, k=0.1)\n",
    "        feat[np.abs(feat)<2] = 0\n",
    "        yield feat[3:72, 3:72]"
   ]
  },
  {
   "cell_type": "code",
   "execution_count": 86,
   "metadata": {
    "collapsed": true
   },
   "outputs": [],
   "source": [
    "corner = tuple(harris(all_data))"
   ]
  },
  {
   "cell_type": "code",
   "execution_count": 87,
   "metadata": {},
   "outputs": [
    {
     "name": "stderr",
     "output_type": "stream",
     "text": [
      "/anaconda/lib/python3.6/site-packages/skimage/io/_plugins/matplotlib_plugin.py:51: FutureWarning: Conversion of the second argument of issubdtype from `float` to `np.floating` is deprecated. In future, it will be treated as `np.float64 == np.dtype(float).type`.\n",
      "  out_of_range_float = (np.issubdtype(image.dtype, np.float) and\n"
     ]
    },
    {
     "data": {
      "image/png": "[encoded data removed]",
      "text/plain": [
       "<matplotlib.figure.Figure at 0x10f176748>"
      ]
     },
     "metadata": {},
     "output_type": "display_data"
    }
   ],
   "source": [
    "io.imshow(corner[202])\n",
    "plt.show()"
   ]
  },
  {
   "cell_type": "code",
   "execution_count": 88,
   "metadata": {
    "collapsed": true
   },
   "outputs": [],
   "source": [
    "harris_distribution_feat = tuple(posNneg_distribution(corner))"
   ]
  },
  {
   "cell_type": "code",
   "execution_count": 89,
   "metadata": {
    "collapsed": true
   },
   "outputs": [],
   "source": [
    "ncn = [all_negative(corner[i]) for i in range(len(corner))]\n",
    "pcn = [all_positive(corner[i]) for i in range(len(corner))]"
   ]
  },
  {
   "cell_type": "code",
   "execution_count": 90,
   "metadata": {
    "collapsed": true
   },
   "outputs": [],
   "source": [
    "corner_feat = tuple(feat_posNneg_main(corner))"
   ]
  },
  {
   "cell_type": "code",
   "execution_count": 91,
   "metadata": {},
   "outputs": [
    {
     "data": {
      "text/plain": [
       "[8.875,\n",
       " 5.095238095238095,\n",
       " 9.94,\n",
       " 3.566666666666667,\n",
       " 6.003814512445648,\n",
       " 2.7480492785281476,\n",
       " 7.607356679975951,\n",
       " 2.157133308949957,\n",
       " 0.9874632713026444,\n",
       " 0.962910008410429,\n",
       " 0.9899803213511337,\n",
       " 0.9271196048263017,\n",
       " 3.4227323679534223,\n",
       " 2.712501645501951,\n",
       " 3.294549253527408,\n",
       " 3.0124548315945607]"
      ]
     },
     "execution_count": 91,
     "metadata": {},
     "output_type": "execute_result"
    }
   ],
   "source": [
    "corner_feat[0]"
   ]
  },
  {
   "cell_type": "markdown",
   "metadata": {},
   "source": [
    "# Filter banks"
   ]
  },
  {
   "cell_type": "code",
   "execution_count": 92,
   "metadata": {
    "collapsed": true
   },
   "outputs": [],
   "source": [
    "h0 = np.array([0.5, 0.5])\n",
    "h1 = np.array([0.5, -0.5])"
   ]
  },
  {
   "cell_type": "code",
   "execution_count": 93,
   "metadata": {
    "collapsed": true
   },
   "outputs": [],
   "source": [
    "def filter_banks(image):\n",
    "    L = np.array([np.convolve(image[i], h0) for i in range(image.shape[0])][::2])\n",
    "    H = np.array([np.convolve(image[i], h1) for i in range(image.shape[0])][::2])\n",
    "    LL = np.array([np.convolve(L.T[i], h0) for i in range(image.shape[1])][::2]).T\n",
    "    LH = np.array([np.convolve(L.T[i], h1) for i in range(image.shape[1])][::2]).T\n",
    "    HL = np.array([np.convolve(H.T[i], h0) for i in range(image.shape[1])][::2]).T\n",
    "    HH = np.array([np.convolve(H.T[i], h1) for i in range(image.shape[1])][::2]).T\n",
    "    return LL, LH, HL, HH"
   ]
  },
  {
   "cell_type": "code",
   "execution_count": 94,
   "metadata": {
    "collapsed": true
   },
   "outputs": [],
   "source": [
    "LL, LH, HL, HH = [], [], [], []\n",
    "for image in all_data:\n",
    "    ll, lh, hl, hh = filter_banks(image)\n",
    "    LL.append(ll)\n",
    "    LH.append(lh)\n",
    "    HL.append(hl)\n",
    "    HH.append(hh)"
   ]
  },
  {
   "cell_type": "code",
   "execution_count": 95,
   "metadata": {},
   "outputs": [
    {
     "name": "stderr",
     "output_type": "stream",
     "text": [
      "/anaconda/lib/python3.6/site-packages/skimage/io/_plugins/matplotlib_plugin.py:51: FutureWarning: Conversion of the second argument of issubdtype from `float` to `np.floating` is deprecated. In future, it will be treated as `np.float64 == np.dtype(float).type`.\n",
      "  out_of_range_float = (np.issubdtype(image.dtype, np.float) and\n"
     ]
    },
    {
     "data": {
      "image/png": "[encoded data removed]",
      "text/plain": [
       "<matplotlib.figure.Figure at 0x1c22cb6828>"
      ]
     },
     "metadata": {},
     "output_type": "display_data"
    }
   ],
   "source": [
    "io.imshow(LH[200])\n",
    "plt.show()"
   ]
  },
  {
   "cell_type": "code",
   "execution_count": 96,
   "metadata": {
    "collapsed": true
   },
   "outputs": [],
   "source": [
    "HL_distribution_feat = tuple(posNneg_distribution(HL))\n",
    "LH_distribution_feat = tuple(posNneg_distribution(LH))\n",
    "HH_distribution_feat = tuple(posNneg_distribution(HH))"
   ]
  },
  {
   "cell_type": "markdown",
   "metadata": {},
   "source": [
    "# horizontal and vertical info"
   ]
  },
  {
   "cell_type": "code",
   "execution_count": 97,
   "metadata": {},
   "outputs": [
    {
     "name": "stderr",
     "output_type": "stream",
     "text": [
      "/anaconda/lib/python3.6/site-packages/skimage/util/dtype.py:122: UserWarning: Possible precision loss when converting from float64 to uint8\n",
      "  .format(dtypeobj_in, dtypeobj_out))\n",
      "/anaconda/lib/python3.6/site-packages/skimage/io/_plugins/matplotlib_plugin.py:51: FutureWarning: Conversion of the second argument of issubdtype from `float` to `np.floating` is deprecated. In future, it will be treated as `np.float64 == np.dtype(float).type`.\n",
      "  out_of_range_float = (np.issubdtype(image.dtype, np.float) and\n"
     ]
    },
    {
     "data": {
      "image/png": "[encoded data removed]",
      "text/plain": [
       "<matplotlib.figure.Figure at 0x1c23381518>"
      ]
     },
     "metadata": {},
     "output_type": "display_data"
    }
   ],
   "source": [
    "io.imshow(img_as_ubyte(all_data[200]))\n",
    "plt.show()"
   ]
  },
  {
   "cell_type": "code",
   "execution_count": 98,
   "metadata": {
    "collapsed": true
   },
   "outputs": [],
   "source": [
    "def pixels_per_line(matrix):\n",
    "    result = []\n",
    "    for i in range(matrix.shape[0]):\n",
    "        ct = np.count_nonzero(1-matrix[i])\n",
    "        result.append(ct)\n",
    "    return result"
   ]
  },
  {
   "cell_type": "code",
   "execution_count": 99,
   "metadata": {
    "collapsed": true
   },
   "outputs": [],
   "source": [
    "def pixel_count(image):\n",
    "    h = pixels_per_line(image)\n",
    "    v = pixels_per_line(image.T)\n",
    "    return h,v"
   ]
  },
  {
   "cell_type": "code",
   "execution_count": 100,
   "metadata": {
    "collapsed": true
   },
   "outputs": [],
   "source": [
    "def std(array):\n",
    "    array = list(filter(lambda a: a != 0, array))\n",
    "    return np.std(array)"
   ]
  },
  {
   "cell_type": "code",
   "execution_count": 101,
   "metadata": {
    "collapsed": true
   },
   "outputs": [],
   "source": [
    "def greater_than_half(array):\n",
    "    assert(np.amax(array) == 1 and np.amin(array) >= 0)\n",
    "    array = list(filter(lambda a: a > 0.5, array))\n",
    "    return len(array)"
   ]
  },
  {
   "cell_type": "code",
   "execution_count": 102,
   "metadata": {
    "collapsed": true
   },
   "outputs": [],
   "source": [
    "def less_than_half(array):\n",
    "    assert(np.amax(array) == 1 and np.amin(array) >= 0)\n",
    "    array = list(filter(lambda a: a < 0.5 and a > 0, array))\n",
    "    return len(array)"
   ]
  },
  {
   "cell_type": "code",
   "execution_count": 103,
   "metadata": {
    "collapsed": true
   },
   "outputs": [],
   "source": [
    "def ent_by_line(image):\n",
    "    result = []\n",
    "    for i in range(image.shape[0]):\n",
    "        rev = img_as_ubyte(1-image)\n",
    "        probDic = FreqDist(rev[i])\n",
    "        probDic = {k:v/len(image[i]) for k,v in probDic.items()}\n",
    "        prob = [probDic[pixel] for pixel in rev[i]]\n",
    "        ent = sum([-p*log(p) for p in prob])\n",
    "        result.append(ent)\n",
    "    return sorted(result, reverse=True)"
   ]
  },
  {
   "cell_type": "code",
   "execution_count": 104,
   "metadata": {
    "collapsed": true
   },
   "outputs": [],
   "source": [
    "def ent_by_line_main(image):\n",
    "    ent_h = ent_by_line(image)\n",
    "    ent_v = ent_by_line(image.T)\n",
    "    return ent_h, ent_v"
   ]
  },
  {
   "cell_type": "code",
   "execution_count": 105,
   "metadata": {
    "collapsed": true
   },
   "outputs": [],
   "source": [
    "# read images of black(0) background and lighter color as character (non-zero)\n",
    "# used for original image/down-sampled image\n",
    "\n",
    "def feat_main(dataset):\n",
    "    for image in dataset:\n",
    "        result = []\n",
    "        h,v = pixel_count(image)\n",
    "\n",
    "        # calculate features\n",
    "        hn0, vn0 = np.count_nonzero(h), np.count_nonzero(v)\n",
    "\n",
    "        # mean\n",
    "        result.append(sum(h)/hn0)\n",
    "        result.append(sum(v)/vn0)\n",
    "\n",
    "        # standard deviation\n",
    "        result.append(std(h))\n",
    "        result.append(std(v))\n",
    "\n",
    "        # smoothess: 1 - (1/(1+mean**2))\n",
    "        result.append(1 - (1/(1+(sum(h)/hn0)**2)))\n",
    "        result.append(1 - (1/(1+(sum(v)/vn0)**2)))\n",
    "\n",
    "        # entropy\n",
    "        Ph, Pv = np.array(h)/sum(h), np.array(v)/sum(v)\n",
    "        result.append(sum([-(Ph[i]*log(Ph[i]+0.01)) for i in range(len(Ph))]))\n",
    "        result.append(sum([-(Pv[i]*log(Pv[i]+0.01)) for i in range(len(Pv))]))\n",
    "\n",
    "        # count non-zero pixels\n",
    "        max_h, max_v = max(h), max(v)\n",
    "        result.append(max_h)\n",
    "        result.append(max_v)\n",
    "\n",
    "        # rank non-zero pixels\n",
    "        sorted_h = sorted(list(np.array(h)/max_h))[::-1]\n",
    "        sorted_v = sorted(list(np.array(v)/max_v))[::-1]\n",
    "\n",
    "        # mean, std of sorted prob\n",
    "        result.append(sum(sorted_h)/hn0)\n",
    "        result.append(sum(sorted_v)/vn0)\n",
    "        result.append(std(sorted_h))\n",
    "        result.append(std(sorted_v))\n",
    "        greater_ratio_h, greater_ratio_v = greater_than_half(sorted_h)/hn0, greater_than_half(sorted_v)/vn0\n",
    "        result.append(greater_ratio_h)\n",
    "        result.append(greater_ratio_v)\n",
    "        \n",
    "        # mean, std of ent_by_line\n",
    "        ent_h, ent_v = ent_by_line_main(image)\n",
    "        ent_hn0, ent_vn0 = np.count_nonzero(ent_h), np.count_nonzero(ent_v)\n",
    "        ent_h_mean, ent_v_mean = sum(ent_h)/ent_hn0, sum(ent_v)/ent_vn0\n",
    "        ent_h_std, ent_v_std = std(ent_h), std(ent_v)\n",
    "        result.append(np.amax(ent_h))\n",
    "        result.append(np.amax(ent_v))\n",
    "        result.append(ent_h_mean)\n",
    "        result.append(ent_v_mean)\n",
    "        result.append(ent_h_std)\n",
    "        result.append(ent_v_std)\n",
    "        \n",
    "        yield result"
   ]
  },
  {
   "cell_type": "code",
   "execution_count": 106,
   "metadata": {
    "collapsed": true
   },
   "outputs": [],
   "source": [
    "sb_sqrt_rev = [1-image for image in sb_sqrt]\n",
    "rt_sqrt_rev = [1-image for image in rt_sqrt]"
   ]
  },
  {
   "cell_type": "code",
   "execution_count": 107,
   "metadata": {},
   "outputs": [
    {
     "name": "stderr",
     "output_type": "stream",
     "text": [
      "/anaconda/lib/python3.6/site-packages/skimage/util/dtype.py:122: UserWarning: Possible precision loss when converting from float64 to uint8\n",
      "  .format(dtypeobj_in, dtypeobj_out))\n"
     ]
    }
   ],
   "source": [
    "feat_all_data = tuple(feat_main(all_data))\n",
    "feat_lap_small1 = tuple(feat_main(lap_small1))\n",
    "feat_lap_small2 = tuple(feat_main(lap_small2))\n",
    "\n",
    "feat_sobel_h = tuple(feat_posNneg_main(sb_h))\n",
    "feat_sobel_v = tuple(feat_posNneg_main(sb_v))\n",
    "feat_sobel_sqrt = tuple(feat_main(sb_sqrt_rev))\n",
    "\n",
    "feat_roberts_p = tuple(feat_posNneg_main(rt_p))\n",
    "feat_roberts_n = tuple(feat_posNneg_main(rt_n))\n",
    "feat_roberts_sqrt = tuple(feat_main(rt_sqrt_rev))"
   ]
  },
  {
   "cell_type": "code",
   "execution_count": 108,
   "metadata": {
    "collapsed": true
   },
   "outputs": [],
   "source": [
    "# gscm_features, lbp_hist, lap_large_feat, lap_small_feat, corner_feat\n",
    "# feat_otsu2, feat_lap_small1, feat_lap_small2\n",
    "# feat_sobel_h, feat_sobel_v, feat_sobel_sqrt\n",
    "# feat_roberts_p, feat_roberts_n, feat_roberts_sqrt"
   ]
  },
  {
   "cell_type": "code",
   "execution_count": 109,
   "metadata": {
    "collapsed": true
   },
   "outputs": [],
   "source": [
    "feat = []\n",
    "for i in range(len(all_data)):\n",
    "    feat.append([])\n",
    "    feat[i].append(gscm_features[i])\n",
    "    feat[i].append(lbp3_hist[i])\n",
    "    feat[i].append(lbp9_hist[i])\n",
    "    feat[i].append(lap_large_feat[i])\n",
    "    feat[i].append(lap_small_feat[i])\n",
    "    feat[i].append(feat_all_data[i])\n",
    "    feat[i].append(feat_lap_small1[i])\n",
    "    feat[i].append(feat_lap_small2[i])\n",
    "    feat[i].append(sobel_h_distribution[i])\n",
    "    feat[i].append(sobel_v_distribution[i])\n",
    "    feat[i].append(feat_sobel_h[i])\n",
    "    feat[i].append(feat_sobel_v[i])\n",
    "    feat[i].append(feat_sobel_sqrt[i])\n",
    "    feat[i].append(rt_p_distribution[i])\n",
    "    feat[i].append(rt_n_distribution[i])\n",
    "    feat[i].append(feat_roberts_p[i])\n",
    "    feat[i].append(feat_roberts_n[i])\n",
    "    feat[i].append(feat_roberts_sqrt[i])\n",
    "    feat[i].append([feat_area[i]])\n",
    "    feat[i].append([sobel_sum[i]])\n",
    "    feat[i].append([rt_sum[i]])\n",
    "    feat[i].append(harris_distribution_feat[i])\n",
    "    feat[i].append(lap_small3_distribution_feat[i])\n",
    "    feat[i].append(lap_small4_distribution_feat[i])\n",
    "    feat[i].append(HL_distribution_feat[i])\n",
    "    feat[i].append(LH_distribution_feat[i])\n",
    "    feat[i].append(HH_distribution_feat[i])"
   ]
  },
  {
   "cell_type": "code",
   "execution_count": 110,
   "metadata": {
    "collapsed": true
   },
   "outputs": [],
   "source": [
    "for i in range(len(feat)):\n",
    "    feat[i] = list(itertools.chain.from_iterable(feat[i]))"
   ]
  },
  {
   "cell_type": "code",
   "execution_count": 111,
   "metadata": {},
   "outputs": [
    {
     "data": {
      "text/plain": [
       "(264, 777)"
      ]
     },
     "execution_count": 111,
     "metadata": {},
     "output_type": "execute_result"
    }
   ],
   "source": [
    "feat = np.array(feat)\n",
    "feat.shape"
   ]
  },
  {
   "cell_type": "code",
   "execution_count": 112,
   "metadata": {
    "collapsed": true
   },
   "outputs": [],
   "source": [
    "# 78, 72, 114\n",
    "label = np.concatenate((np.repeat(0,78), np.repeat(1,72), np.repeat(2,114)), axis=0)"
   ]
  },
  {
   "cell_type": "code",
   "execution_count": 113,
   "metadata": {
    "collapsed": true
   },
   "outputs": [],
   "source": [
    "X_test, y_test = feat[::5], label[::5]\n",
    "X_train = [feat[i].astype(float) for i in range(len(feat)) if i%5 != 0]\n",
    "y_train = [label[i] for i in range(len(label)) if i%5 != 0]"
   ]
  },
  {
   "cell_type": "code",
   "execution_count": 114,
   "metadata": {},
   "outputs": [
    {
     "data": {
      "text/plain": [
       "LinearSVC(C=1.0, class_weight=None, dual=True, fit_intercept=True,\n",
       "     intercept_scaling=1, loss='squared_hinge', max_iter=1000,\n",
       "     multi_class='ovr', penalty='l2', random_state=None, tol=0.0001,\n",
       "     verbose=0)"
      ]
     },
     "execution_count": 114,
     "metadata": {},
     "output_type": "execute_result"
    }
   ],
   "source": [
    "clf = LinearSVC()\n",
    "clf.fit(X_train, y_train)"
   ]
  },
  {
   "cell_type": "code",
   "execution_count": 115,
   "metadata": {
    "collapsed": true
   },
   "outputs": [],
   "source": [
    "pred = clf.predict(X_test)"
   ]
  },
  {
   "cell_type": "code",
   "execution_count": 116,
   "metadata": {},
   "outputs": [
    {
     "data": {
      "text/html": [
       "<div>\n",
       "<style>\n",
       "    .dataframe thead tr:only-child th {\n",
       "        text-align: right;\n",
       "    }\n",
       "\n",
       "    .dataframe thead th {\n",
       "        text-align: left;\n",
       "    }\n",
       "\n",
       "    .dataframe tbody tr th {\n",
       "        vertical-align: top;\n",
       "    }\n",
       "</style>\n",
       "<table border=\"1\" class=\"dataframe\">\n",
       "  <thead>\n",
       "    <tr style=\"text-align: right;\">\n",
       "      <th></th>\n",
       "      <th>pred_1</th>\n",
       "      <th>pred_2</th>\n",
       "      <th>pred_3</th>\n",
       "    </tr>\n",
       "  </thead>\n",
       "  <tbody>\n",
       "    <tr>\n",
       "      <th>class_1</th>\n",
       "      <td>3</td>\n",
       "      <td>0</td>\n",
       "      <td>13</td>\n",
       "    </tr>\n",
       "    <tr>\n",
       "      <th>class_2</th>\n",
       "      <td>1</td>\n",
       "      <td>8</td>\n",
       "      <td>5</td>\n",
       "    </tr>\n",
       "    <tr>\n",
       "      <th>class_3</th>\n",
       "      <td>1</td>\n",
       "      <td>0</td>\n",
       "      <td>22</td>\n",
       "    </tr>\n",
       "  </tbody>\n",
       "</table>\n",
       "</div>"
      ],
      "text/plain": [
       "         pred_1  pred_2  pred_3\n",
       "class_1       3       0      13\n",
       "class_2       1       8       5\n",
       "class_3       1       0      22"
      ]
     },
     "execution_count": 116,
     "metadata": {},
     "output_type": "execute_result"
    }
   ],
   "source": [
    "pd.DataFrame(confusion_matrix(y_test, pred), \n",
    "             columns=['pred_1', 'pred_2', 'pred_3'], index=['class_1', 'class_2', 'class_3'])"
   ]
  },
  {
   "cell_type": "code",
   "execution_count": 117,
   "metadata": {},
   "outputs": [
    {
     "data": {
      "text/plain": [
       "0.7166666666666668"
      ]
     },
     "execution_count": 117,
     "metadata": {},
     "output_type": "execute_result"
    }
   ],
   "source": [
    "precision_score(y_test, pred, average='macro')"
   ]
  },
  {
   "cell_type": "code",
   "execution_count": 118,
   "metadata": {},
   "outputs": [
    {
     "data": {
      "text/plain": [
       "0.5718167701863354"
      ]
     },
     "execution_count": 118,
     "metadata": {},
     "output_type": "execute_result"
    }
   ],
   "source": [
    "recall_score(y_test, pred, average='macro')"
   ]
  },
  {
   "cell_type": "code",
   "execution_count": 119,
   "metadata": {},
   "outputs": [
    {
     "data": {
      "text/plain": [
       "0.5704665704665706"
      ]
     },
     "execution_count": 119,
     "metadata": {},
     "output_type": "execute_result"
    }
   ],
   "source": [
    "f1_score(y_test, pred, average='macro')"
   ]
  },
  {
   "cell_type": "code",
   "execution_count": 120,
   "metadata": {},
   "outputs": [
    {
     "data": {
      "text/plain": [
       "0.6226415094339622"
      ]
     },
     "execution_count": 120,
     "metadata": {},
     "output_type": "execute_result"
    }
   ],
   "source": [
    "clf.score(X_test, y_test)"
   ]
  },
  {
   "cell_type": "markdown",
   "metadata": {},
   "source": [
    "# baseline - dummy classifier"
   ]
  },
  {
   "cell_type": "code",
   "execution_count": 121,
   "metadata": {},
   "outputs": [
    {
     "data": {
      "text/plain": [
       "0.4339622641509434"
      ]
     },
     "execution_count": 121,
     "metadata": {},
     "output_type": "execute_result"
    }
   ],
   "source": [
    "clf_dummy = DummyClassifier(strategy='most_frequent', random_state=0)\n",
    "clf_dummy.fit(X_train, y_train)\n",
    "clf_dummy.score(X_test, y_test) "
   ]
  },
  {
   "cell_type": "markdown",
   "metadata": {
    "collapsed": true
   },
   "source": [
    "# Improving the model - Feature Reduction"
   ]
  },
  {
   "cell_type": "code",
   "execution_count": 122,
   "metadata": {
    "collapsed": true
   },
   "outputs": [],
   "source": [
    "fit = SelectKBest(chi2, k=41).fit(feat, label)\n",
    "feat_new = fit.transform(feat)"
   ]
  },
  {
   "cell_type": "code",
   "execution_count": 123,
   "metadata": {
    "collapsed": true
   },
   "outputs": [],
   "source": [
    "scores = sorted(fit.scores_[~np.isnan(fit.scores_)], reverse=True)"
   ]
  },
  {
   "cell_type": "code",
   "execution_count": 124,
   "metadata": {},
   "outputs": [
    {
     "data": {
      "image/png": "[encoded data removed]",
      "text/plain": [
       "<matplotlib.figure.Figure at 0x1c239052e8>"
      ]
     },
     "metadata": {},
     "output_type": "display_data"
    }
   ],
   "source": [
    "plt.plot(range(50), scores[:50])\n",
    "plt.show()"
   ]
  },
  {
   "cell_type": "code",
   "execution_count": 125,
   "metadata": {},
   "outputs": [
    {
     "data": {
      "text/plain": [
       "(264, 41)"
      ]
     },
     "execution_count": 125,
     "metadata": {},
     "output_type": "execute_result"
    }
   ],
   "source": [
    "feat_new.shape"
   ]
  },
  {
   "cell_type": "code",
   "execution_count": 126,
   "metadata": {
    "collapsed": true
   },
   "outputs": [],
   "source": [
    "X_test_new = feat_new[::5]\n",
    "X_train_new = [feat_new[i].astype(float) for i in range(len(feat_new)) if i%5 != 0]"
   ]
  },
  {
   "cell_type": "code",
   "execution_count": 127,
   "metadata": {},
   "outputs": [
    {
     "data": {
      "text/plain": [
       "LinearSVC(C=1.0, class_weight=None, dual=True, fit_intercept=True,\n",
       "     intercept_scaling=1, loss='squared_hinge', max_iter=1000,\n",
       "     multi_class='ovr', penalty='l2', random_state=None, tol=0.0001,\n",
       "     verbose=0)"
      ]
     },
     "execution_count": 127,
     "metadata": {},
     "output_type": "execute_result"
    }
   ],
   "source": [
    "clf_new = LinearSVC()\n",
    "clf_new.fit(X_train_new, y_train)"
   ]
  },
  {
   "cell_type": "code",
   "execution_count": 128,
   "metadata": {
    "collapsed": true
   },
   "outputs": [],
   "source": [
    "pred_new = clf_new.predict(X_test_new)"
   ]
  },
  {
   "cell_type": "code",
   "execution_count": 129,
   "metadata": {},
   "outputs": [
    {
     "data": {
      "text/html": [
       "<div>\n",
       "<style>\n",
       "    .dataframe thead tr:only-child th {\n",
       "        text-align: right;\n",
       "    }\n",
       "\n",
       "    .dataframe thead th {\n",
       "        text-align: left;\n",
       "    }\n",
       "\n",
       "    .dataframe tbody tr th {\n",
       "        vertical-align: top;\n",
       "    }\n",
       "</style>\n",
       "<table border=\"1\" class=\"dataframe\">\n",
       "  <thead>\n",
       "    <tr style=\"text-align: right;\">\n",
       "      <th></th>\n",
       "      <th>pred_1</th>\n",
       "      <th>pred_2</th>\n",
       "      <th>pred_3</th>\n",
       "    </tr>\n",
       "  </thead>\n",
       "  <tbody>\n",
       "    <tr>\n",
       "      <th>class_1</th>\n",
       "      <td>9</td>\n",
       "      <td>2</td>\n",
       "      <td>5</td>\n",
       "    </tr>\n",
       "    <tr>\n",
       "      <th>class_2</th>\n",
       "      <td>2</td>\n",
       "      <td>10</td>\n",
       "      <td>2</td>\n",
       "    </tr>\n",
       "    <tr>\n",
       "      <th>class_3</th>\n",
       "      <td>3</td>\n",
       "      <td>0</td>\n",
       "      <td>20</td>\n",
       "    </tr>\n",
       "  </tbody>\n",
       "</table>\n",
       "</div>"
      ],
      "text/plain": [
       "         pred_1  pred_2  pred_3\n",
       "class_1       9       2       5\n",
       "class_2       2      10       2\n",
       "class_3       3       0      20"
      ]
     },
     "execution_count": 129,
     "metadata": {},
     "output_type": "execute_result"
    }
   ],
   "source": [
    "pd.DataFrame(confusion_matrix(y_test, pred_new), \n",
    "             columns=['pred_1', 'pred_2', 'pred_3'], index=['class_1', 'class_2', 'class_3'])"
   ]
  },
  {
   "cell_type": "code",
   "execution_count": 130,
   "metadata": {},
   "outputs": [
    {
     "data": {
      "text/plain": [
       "0.7389770723104055"
      ]
     },
     "execution_count": 130,
     "metadata": {},
     "output_type": "execute_result"
    }
   ],
   "source": [
    "precision_score(y_test, pred_new, average='macro')"
   ]
  },
  {
   "cell_type": "code",
   "execution_count": 131,
   "metadata": {},
   "outputs": [
    {
     "data": {
      "text/plain": [
       "0.7154503105590062"
      ]
     },
     "execution_count": 131,
     "metadata": {},
     "output_type": "execute_result"
    }
   ],
   "source": [
    "recall_score(y_test, pred_new, average='macro')"
   ]
  },
  {
   "cell_type": "code",
   "execution_count": 132,
   "metadata": {},
   "outputs": [
    {
     "data": {
      "text/plain": [
       "0.7230769230769231"
      ]
     },
     "execution_count": 132,
     "metadata": {},
     "output_type": "execute_result"
    }
   ],
   "source": [
    "f1_score(y_test, pred_new, average='macro')"
   ]
  },
  {
   "cell_type": "markdown",
   "metadata": {
    "collapsed": true
   },
   "source": [
    "# Feature Reduction - PCA"
   ]
  },
  {
   "cell_type": "code",
   "execution_count": 133,
   "metadata": {
    "collapsed": true
   },
   "outputs": [],
   "source": [
    "pca = PCA(n_components=2)\n",
    "pca_feat = pca.fit_transform(feat)"
   ]
  },
  {
   "cell_type": "code",
   "execution_count": 134,
   "metadata": {},
   "outputs": [
    {
     "data": {
      "text/plain": [
       "array([0.83624277, 0.13064879])"
      ]
     },
     "execution_count": 134,
     "metadata": {},
     "output_type": "execute_result"
    }
   ],
   "source": [
    "pca.explained_variance_ratio_"
   ]
  },
  {
   "cell_type": "code",
   "execution_count": 135,
   "metadata": {
    "collapsed": true
   },
   "outputs": [],
   "source": [
    "X_test_pca = pca_feat[::5]\n",
    "X_train_pca = [pca_feat[i] for i in range(len(pca_feat)) if i%5 != 0]"
   ]
  },
  {
   "cell_type": "code",
   "execution_count": 136,
   "metadata": {},
   "outputs": [
    {
     "data": {
      "image/png": "[encoded data removed]",
      "text/plain": [
       "<matplotlib.figure.Figure at 0x11accc390>"
      ]
     },
     "metadata": {},
     "output_type": "display_data"
    }
   ],
   "source": [
    "# train: 62, 120\n",
    "# test: 16, 30\n",
    "x1, x2, x3 = np.array(X_train_pca)[:62,0], np.array(X_train_pca)[62:120,0], np.array(X_train_pca)[120:,0]\n",
    "y1, y2, y3 = np.array(X_train_pca)[:62,1], np.array(X_train_pca)[62:120,1], np.array(X_train_pca)[120:,1]\n",
    "x4, x5, x6 = np.array(X_test_pca)[:16,0], np.array(X_test_pca)[16:30,0], np.array(X_test_pca)[30:,0]\n",
    "y4, y5, y6 = np.array(X_test_pca)[:16,1], np.array(X_test_pca)[16:30,1], np.array(X_test_pca)[30:,1]\n",
    "plt.scatter(x1, y1, c='r')\n",
    "plt.scatter(x2, y2, c='g')\n",
    "plt.scatter(x3, y3, c='b')\n",
    "plt.scatter(x4, y4, c='r', marker='^', alpha=0.3)\n",
    "plt.scatter(x5, y5, c='g', marker='^', alpha=0.3)\n",
    "plt.scatter(x6, y6, c='b', marker='^', alpha=0.3)\n",
    "plt.show()"
   ]
  },
  {
   "cell_type": "code",
   "execution_count": 137,
   "metadata": {},
   "outputs": [
    {
     "data": {
      "text/plain": [
       "LinearSVC(C=1.0, class_weight=None, dual=True, fit_intercept=True,\n",
       "     intercept_scaling=1, loss='squared_hinge', max_iter=1000,\n",
       "     multi_class='ovr', penalty='l2', random_state=None, tol=0.0001,\n",
       "     verbose=0)"
      ]
     },
     "execution_count": 137,
     "metadata": {},
     "output_type": "execute_result"
    }
   ],
   "source": [
    "clf_pca = LinearSVC()\n",
    "clf_pca.fit(X_train_pca, y_train)"
   ]
  },
  {
   "cell_type": "code",
   "execution_count": 138,
   "metadata": {
    "collapsed": true
   },
   "outputs": [],
   "source": [
    "pred_pca = clf_pca.predict(X_test_pca)"
   ]
  },
  {
   "cell_type": "code",
   "execution_count": 139,
   "metadata": {},
   "outputs": [
    {
     "data": {
      "text/html": [
       "<div>\n",
       "<style>\n",
       "    .dataframe thead tr:only-child th {\n",
       "        text-align: right;\n",
       "    }\n",
       "\n",
       "    .dataframe thead th {\n",
       "        text-align: left;\n",
       "    }\n",
       "\n",
       "    .dataframe tbody tr th {\n",
       "        vertical-align: top;\n",
       "    }\n",
       "</style>\n",
       "<table border=\"1\" class=\"dataframe\">\n",
       "  <thead>\n",
       "    <tr style=\"text-align: right;\">\n",
       "      <th></th>\n",
       "      <th>pred_1</th>\n",
       "      <th>pred_2</th>\n",
       "      <th>pred_3</th>\n",
       "    </tr>\n",
       "  </thead>\n",
       "  <tbody>\n",
       "    <tr>\n",
       "      <th>class_1</th>\n",
       "      <td>7</td>\n",
       "      <td>9</td>\n",
       "      <td>0</td>\n",
       "    </tr>\n",
       "    <tr>\n",
       "      <th>class_2</th>\n",
       "      <td>2</td>\n",
       "      <td>5</td>\n",
       "      <td>7</td>\n",
       "    </tr>\n",
       "    <tr>\n",
       "      <th>class_3</th>\n",
       "      <td>22</td>\n",
       "      <td>1</td>\n",
       "      <td>0</td>\n",
       "    </tr>\n",
       "  </tbody>\n",
       "</table>\n",
       "</div>"
      ],
      "text/plain": [
       "         pred_1  pred_2  pred_3\n",
       "class_1       7       9       0\n",
       "class_2       2       5       7\n",
       "class_3      22       1       0"
      ]
     },
     "execution_count": 139,
     "metadata": {},
     "output_type": "execute_result"
    }
   ],
   "source": [
    "pd.DataFrame(confusion_matrix(y_test, pred_pca), \n",
    "             columns=['pred_1', 'pred_2', 'pred_3'], index=['class_1', 'class_2', 'class_3'])"
   ]
  },
  {
   "cell_type": "code",
   "execution_count": 140,
   "metadata": {},
   "outputs": [
    {
     "data": {
      "text/plain": [
       "0.18637992831541217"
      ]
     },
     "execution_count": 140,
     "metadata": {},
     "output_type": "execute_result"
    }
   ],
   "source": [
    "precision_score(y_test, pred_pca, average='macro')"
   ]
  },
  {
   "cell_type": "code",
   "execution_count": 141,
   "metadata": {},
   "outputs": [
    {
     "data": {
      "text/plain": [
       "0.2648809523809524"
      ]
     },
     "execution_count": 141,
     "metadata": {},
     "output_type": "execute_result"
    }
   ],
   "source": [
    "recall_score(y_test, pred_pca, average='macro')"
   ]
  },
  {
   "cell_type": "code",
   "execution_count": 142,
   "metadata": {},
   "outputs": [
    {
     "data": {
      "text/plain": [
       "0.21423330887747616"
      ]
     },
     "execution_count": 142,
     "metadata": {},
     "output_type": "execute_result"
    }
   ],
   "source": [
    "f1_score(y_test, pred_pca, average='macro')"
   ]
  },
  {
   "cell_type": "markdown",
   "metadata": {
    "collapsed": true
   },
   "source": [
    "# Leave-one-out"
   ]
  },
  {
   "cell_type": "code",
   "execution_count": 143,
   "metadata": {
    "collapsed": true
   },
   "outputs": [],
   "source": [
    "loo = LeaveOneOut()"
   ]
  },
  {
   "cell_type": "code",
   "execution_count": 144,
   "metadata": {},
   "outputs": [
    {
     "name": "stderr",
     "output_type": "stream",
     "text": [
      "/anaconda/lib/python3.6/site-packages/sklearn/metrics/classification.py:1135: UndefinedMetricWarning: Precision is ill-defined and being set to 0.0 in labels with no predicted samples.\n",
      "  'precision', 'predicted', average, warn_for)\n"
     ]
    }
   ],
   "source": [
    "acc = []\n",
    "for train_index, test_index in loo.split(feat):\n",
    "    X_train_one, X_test_one = feat[train_index], feat[test_index]\n",
    "    y_train_one, y_test_one = label[train_index], label[test_index]\n",
    "    \n",
    "    clf_one = LinearSVC()\n",
    "    clf_one.fit(X_train_one, y_train_one)\n",
    "    pred_one = clf_one.predict(X_test_one)\n",
    "    \n",
    "    acc.append(precision_score(y_test_one, pred_one, average='macro'))"
   ]
  },
  {
   "cell_type": "code",
   "execution_count": 145,
   "metadata": {},
   "outputs": [
    {
     "data": {
      "text/plain": [
       "0.6363636363636364"
      ]
     },
     "execution_count": 145,
     "metadata": {},
     "output_type": "execute_result"
    }
   ],
   "source": [
    "sum(acc)/len(acc)"
   ]
  },
  {
   "cell_type": "code",
   "execution_count": 146,
   "metadata": {},
   "outputs": [
    {
     "name": "stderr",
     "output_type": "stream",
     "text": [
      "/anaconda/lib/python3.6/site-packages/sklearn/metrics/classification.py:1135: UndefinedMetricWarning: Precision is ill-defined and being set to 0.0 in labels with no predicted samples.\n",
      "  'precision', 'predicted', average, warn_for)\n"
     ]
    }
   ],
   "source": [
    "acc_new = []\n",
    "for train_index, test_index in loo.split(feat_new):\n",
    "    X_train_one_new, X_test_one_new = feat_new[train_index], feat_new[test_index]\n",
    "    y_train_one, y_test_one = label[train_index], label[test_index]\n",
    "    \n",
    "    clf_one = LinearSVC()\n",
    "    clf_one.fit(X_train_one_new, y_train_one)\n",
    "    pred_one = clf_one.predict(X_test_one_new)\n",
    "    \n",
    "    acc_new.append(precision_score(y_test_one, pred_one, average='macro'))"
   ]
  },
  {
   "cell_type": "code",
   "execution_count": 147,
   "metadata": {},
   "outputs": [
    {
     "data": {
      "text/plain": [
       "0.6174242424242424"
      ]
     },
     "execution_count": 147,
     "metadata": {},
     "output_type": "execute_result"
    }
   ],
   "source": [
    "sum(acc_new)/len(acc_new)"
   ]
  },
  {
   "cell_type": "code",
   "execution_count": 148,
   "metadata": {},
   "outputs": [
    {
     "name": "stderr",
     "output_type": "stream",
     "text": [
      "/anaconda/lib/python3.6/site-packages/sklearn/metrics/classification.py:1135: UndefinedMetricWarning: Precision is ill-defined and being set to 0.0 in labels with no predicted samples.\n",
      "  'precision', 'predicted', average, warn_for)\n"
     ]
    }
   ],
   "source": [
    "acc_pca = []\n",
    "for train_index, test_index in loo.split(pca_feat):\n",
    "    X_train_one_pca, X_test_one_pca = pca_feat[train_index], pca_feat[test_index]\n",
    "    y_train_one, y_test_one = label[train_index], label[test_index]\n",
    "    \n",
    "    clf_one = LinearSVC()\n",
    "    clf_one.fit(X_train_one_pca, y_train_one)\n",
    "    pred_one = clf_one.predict(X_test_one_pca)\n",
    "    \n",
    "    acc_pca.append(precision_score(y_test_one, pred_one, average='macro'))"
   ]
  },
  {
   "cell_type": "code",
   "execution_count": 149,
   "metadata": {},
   "outputs": [
    {
     "data": {
      "text/plain": [
       "0.49242424242424243"
      ]
     },
     "execution_count": 149,
     "metadata": {},
     "output_type": "execute_result"
    }
   ],
   "source": [
    "sum(acc_pca)/len(acc_pca)"
   ]
  },
  {
   "cell_type": "code",
   "execution_count": null,
   "metadata": {
    "collapsed": true
   },
   "outputs": [],
   "source": []
  }
 ],
 "metadata": {
  "kernelspec": {
   "display_name": "Python 3",
   "language": "python",
   "name": "python3"
  },
  "language_info": {
   "codemirror_mode": {
    "name": "ipython",
    "version": 3
   },
   "file_extension": ".py",
   "mimetype": "text/x-python",
   "name": "python",
   "nbconvert_exporter": "python",
   "pygments_lexer": "ipython3",
   "version": "3.6.1"
  }
 },
 "nbformat": 4,
 "nbformat_minor": 2
}
